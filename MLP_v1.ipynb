{
 "cells": [
  {
   "cell_type": "code",
   "execution_count": 470,
   "metadata": {},
   "outputs": [],
   "source": [
    "from sklearn.datasets import load_iris\n",
    "import pandas as pd\n",
    "import math\n",
    "import numpy as np"
   ]
  },
  {
   "cell_type": "code",
   "execution_count": 471,
   "metadata": {},
   "outputs": [],
   "source": [
    "#load iris dataset\n",
    "data_iris = load_iris()\n",
    "iris_X, iris_y = load_iris(return_X_y=True)\n",
    "feature_iris = data_iris['feature_names']"
   ]
  },
  {
   "cell_type": "code",
   "execution_count": 472,
   "metadata": {},
   "outputs": [],
   "source": [
    "#transform iris into dataframe\n",
    "iris_X=pd.DataFrame(iris_X)\n",
    "iris_y=pd.DataFrame(iris_y)"
   ]
  },
  {
   "cell_type": "code",
   "execution_count": 473,
   "metadata": {},
   "outputs": [],
   "source": [
    "#create index so be merge\n",
    "iris_X=iris_X.reset_index()\n",
    "iris_y=iris_y.reset_index()"
   ]
  },
  {
   "cell_type": "code",
   "execution_count": 474,
   "metadata": {},
   "outputs": [],
   "source": [
    "iris_y.rename(columns = {0:4}, inplace = True) "
   ]
  },
  {
   "cell_type": "code",
   "execution_count": 475,
   "metadata": {},
   "outputs": [],
   "source": [
    "#merge dataset iris\n",
    "iris=iris_X.merge(iris_y)"
   ]
  },
  {
   "cell_type": "code",
   "execution_count": 476,
   "metadata": {},
   "outputs": [],
   "source": [
    "#drop index\n",
    "iris.drop(\"index\",axis=1,inplace=True)"
   ]
  },
  {
   "cell_type": "code",
   "execution_count": 477,
   "metadata": {},
   "outputs": [],
   "source": [
    "iris.rename(columns = {0:feature_iris[0],1:feature_iris[1],2:feature_iris[2],3:feature_iris[3],4:\"target\"}, inplace = True)"
   ]
  },
  {
   "cell_type": "code",
   "execution_count": 478,
   "metadata": {},
   "outputs": [
    {
     "data": {
      "text/html": [
       "<div>\n",
       "<style scoped>\n",
       "    .dataframe tbody tr th:only-of-type {\n",
       "        vertical-align: middle;\n",
       "    }\n",
       "\n",
       "    .dataframe tbody tr th {\n",
       "        vertical-align: top;\n",
       "    }\n",
       "\n",
       "    .dataframe thead th {\n",
       "        text-align: right;\n",
       "    }\n",
       "</style>\n",
       "<table border=\"1\" class=\"dataframe\">\n",
       "  <thead>\n",
       "    <tr style=\"text-align: right;\">\n",
       "      <th></th>\n",
       "      <th>sepal length (cm)</th>\n",
       "      <th>sepal width (cm)</th>\n",
       "      <th>petal length (cm)</th>\n",
       "      <th>petal width (cm)</th>\n",
       "      <th>target</th>\n",
       "    </tr>\n",
       "  </thead>\n",
       "  <tbody>\n",
       "    <tr>\n",
       "      <th>0</th>\n",
       "      <td>5.1</td>\n",
       "      <td>3.5</td>\n",
       "      <td>1.4</td>\n",
       "      <td>0.2</td>\n",
       "      <td>0</td>\n",
       "    </tr>\n",
       "    <tr>\n",
       "      <th>1</th>\n",
       "      <td>4.9</td>\n",
       "      <td>3.0</td>\n",
       "      <td>1.4</td>\n",
       "      <td>0.2</td>\n",
       "      <td>0</td>\n",
       "    </tr>\n",
       "    <tr>\n",
       "      <th>2</th>\n",
       "      <td>4.7</td>\n",
       "      <td>3.2</td>\n",
       "      <td>1.3</td>\n",
       "      <td>0.2</td>\n",
       "      <td>0</td>\n",
       "    </tr>\n",
       "    <tr>\n",
       "      <th>3</th>\n",
       "      <td>4.6</td>\n",
       "      <td>3.1</td>\n",
       "      <td>1.5</td>\n",
       "      <td>0.2</td>\n",
       "      <td>0</td>\n",
       "    </tr>\n",
       "    <tr>\n",
       "      <th>4</th>\n",
       "      <td>5.0</td>\n",
       "      <td>3.6</td>\n",
       "      <td>1.4</td>\n",
       "      <td>0.2</td>\n",
       "      <td>0</td>\n",
       "    </tr>\n",
       "    <tr>\n",
       "      <th>...</th>\n",
       "      <td>...</td>\n",
       "      <td>...</td>\n",
       "      <td>...</td>\n",
       "      <td>...</td>\n",
       "      <td>...</td>\n",
       "    </tr>\n",
       "    <tr>\n",
       "      <th>145</th>\n",
       "      <td>6.7</td>\n",
       "      <td>3.0</td>\n",
       "      <td>5.2</td>\n",
       "      <td>2.3</td>\n",
       "      <td>2</td>\n",
       "    </tr>\n",
       "    <tr>\n",
       "      <th>146</th>\n",
       "      <td>6.3</td>\n",
       "      <td>2.5</td>\n",
       "      <td>5.0</td>\n",
       "      <td>1.9</td>\n",
       "      <td>2</td>\n",
       "    </tr>\n",
       "    <tr>\n",
       "      <th>147</th>\n",
       "      <td>6.5</td>\n",
       "      <td>3.0</td>\n",
       "      <td>5.2</td>\n",
       "      <td>2.0</td>\n",
       "      <td>2</td>\n",
       "    </tr>\n",
       "    <tr>\n",
       "      <th>148</th>\n",
       "      <td>6.2</td>\n",
       "      <td>3.4</td>\n",
       "      <td>5.4</td>\n",
       "      <td>2.3</td>\n",
       "      <td>2</td>\n",
       "    </tr>\n",
       "    <tr>\n",
       "      <th>149</th>\n",
       "      <td>5.9</td>\n",
       "      <td>3.0</td>\n",
       "      <td>5.1</td>\n",
       "      <td>1.8</td>\n",
       "      <td>2</td>\n",
       "    </tr>\n",
       "  </tbody>\n",
       "</table>\n",
       "<p>150 rows × 5 columns</p>\n",
       "</div>"
      ],
      "text/plain": [
       "     sepal length (cm)  sepal width (cm)  petal length (cm)  petal width (cm)  \\\n",
       "0                  5.1               3.5                1.4               0.2   \n",
       "1                  4.9               3.0                1.4               0.2   \n",
       "2                  4.7               3.2                1.3               0.2   \n",
       "3                  4.6               3.1                1.5               0.2   \n",
       "4                  5.0               3.6                1.4               0.2   \n",
       "..                 ...               ...                ...               ...   \n",
       "145                6.7               3.0                5.2               2.3   \n",
       "146                6.3               2.5                5.0               1.9   \n",
       "147                6.5               3.0                5.2               2.0   \n",
       "148                6.2               3.4                5.4               2.3   \n",
       "149                5.9               3.0                5.1               1.8   \n",
       "\n",
       "     target  \n",
       "0         0  \n",
       "1         0  \n",
       "2         0  \n",
       "3         0  \n",
       "4         0  \n",
       "..      ...  \n",
       "145       2  \n",
       "146       2  \n",
       "147       2  \n",
       "148       2  \n",
       "149       2  \n",
       "\n",
       "[150 rows x 5 columns]"
      ]
     },
     "execution_count": 478,
     "metadata": {},
     "output_type": "execute_result"
    }
   ],
   "source": [
    "iris"
   ]
  },
  {
   "cell_type": "code",
   "execution_count": 479,
   "metadata": {},
   "outputs": [],
   "source": [
    "def sigmoid(x):\n",
    "    return 1/(1+math.exp(-x))"
   ]
  },
  {
   "cell_type": "code",
   "execution_count": 480,
   "metadata": {},
   "outputs": [],
   "source": [
    "def sign(x):\n",
    "    if (x>0.5):\n",
    "        return 1\n",
    "    else:\n",
    "        return 0"
   ]
  },
  {
   "cell_type": "code",
   "execution_count": 481,
   "metadata": {},
   "outputs": [],
   "source": [
    "# def net(array_x, array_w, x):\n",
    "#     return array_x[:x]*array_w[:x]"
   ]
  },
  {
   "cell_type": "code",
   "execution_count": 482,
   "metadata": {},
   "outputs": [],
   "source": [
    "# array_x = np.array([1,3,4])\n",
    "# array_y = np.array([0,2,3])"
   ]
  },
  {
   "cell_type": "code",
   "execution_count": 483,
   "metadata": {},
   "outputs": [],
   "source": [
    "#net(array_x, array_y)"
   ]
  },
  {
   "cell_type": "code",
   "execution_count": 484,
   "metadata": {},
   "outputs": [
    {
     "data": {
      "text/html": [
       "<div>\n",
       "<style scoped>\n",
       "    .dataframe tbody tr th:only-of-type {\n",
       "        vertical-align: middle;\n",
       "    }\n",
       "\n",
       "    .dataframe tbody tr th {\n",
       "        vertical-align: top;\n",
       "    }\n",
       "\n",
       "    .dataframe thead th {\n",
       "        text-align: right;\n",
       "    }\n",
       "</style>\n",
       "<table border=\"1\" class=\"dataframe\">\n",
       "  <thead>\n",
       "    <tr style=\"text-align: right;\">\n",
       "      <th></th>\n",
       "      <th>index</th>\n",
       "      <th>0</th>\n",
       "      <th>1</th>\n",
       "      <th>2</th>\n",
       "      <th>3</th>\n",
       "    </tr>\n",
       "  </thead>\n",
       "  <tbody>\n",
       "    <tr>\n",
       "      <th>0</th>\n",
       "      <td>0</td>\n",
       "      <td>5.1</td>\n",
       "      <td>3.5</td>\n",
       "      <td>1.4</td>\n",
       "      <td>0.2</td>\n",
       "    </tr>\n",
       "    <tr>\n",
       "      <th>1</th>\n",
       "      <td>1</td>\n",
       "      <td>4.9</td>\n",
       "      <td>3.0</td>\n",
       "      <td>1.4</td>\n",
       "      <td>0.2</td>\n",
       "    </tr>\n",
       "    <tr>\n",
       "      <th>2</th>\n",
       "      <td>2</td>\n",
       "      <td>4.7</td>\n",
       "      <td>3.2</td>\n",
       "      <td>1.3</td>\n",
       "      <td>0.2</td>\n",
       "    </tr>\n",
       "    <tr>\n",
       "      <th>3</th>\n",
       "      <td>3</td>\n",
       "      <td>4.6</td>\n",
       "      <td>3.1</td>\n",
       "      <td>1.5</td>\n",
       "      <td>0.2</td>\n",
       "    </tr>\n",
       "    <tr>\n",
       "      <th>4</th>\n",
       "      <td>4</td>\n",
       "      <td>5.0</td>\n",
       "      <td>3.6</td>\n",
       "      <td>1.4</td>\n",
       "      <td>0.2</td>\n",
       "    </tr>\n",
       "  </tbody>\n",
       "</table>\n",
       "</div>"
      ],
      "text/plain": [
       "   index    0    1    2    3\n",
       "0      0  5.1  3.5  1.4  0.2\n",
       "1      1  4.9  3.0  1.4  0.2\n",
       "2      2  4.7  3.2  1.3  0.2\n",
       "3      3  4.6  3.1  1.5  0.2\n",
       "4      4  5.0  3.6  1.4  0.2"
      ]
     },
     "execution_count": 484,
     "metadata": {},
     "output_type": "execute_result"
    }
   ],
   "source": [
    "iris_X.head()"
   ]
  },
  {
   "cell_type": "code",
   "execution_count": 485,
   "metadata": {},
   "outputs": [
    {
     "data": {
      "text/plain": [
       "index    0.0\n",
       "0        5.1\n",
       "1        3.5\n",
       "2        1.4\n",
       "3        0.2\n",
       "Name: 0, dtype: float64"
      ]
     },
     "execution_count": 485,
     "metadata": {},
     "output_type": "execute_result"
    }
   ],
   "source": [
    "iris_X.iloc[0]"
   ]
  },
  {
   "cell_type": "code",
   "execution_count": 486,
   "metadata": {},
   "outputs": [],
   "source": [
    "def count_error(target, output):\n",
    "    return 0.5*(target-output)*(target-output)"
   ]
  },
  {
   "cell_type": "code",
   "execution_count": 487,
   "metadata": {},
   "outputs": [
    {
     "data": {
      "text/plain": [
       "40.5"
      ]
     },
     "execution_count": 487,
     "metadata": {},
     "output_type": "execute_result"
    }
   ],
   "source": [
    "count_error(10,1)"
   ]
  },
  {
   "cell_type": "code",
   "execution_count": 488,
   "metadata": {},
   "outputs": [],
   "source": [
    "class Node:\n",
    "    def __init__(self, out=None, w=None, is_used=None, error=None):\n",
    "        self.out = out\n",
    "        self.w = []\n",
    "        self.is_used = is_used\n",
    "        self.error = 0\n",
    "    \n",
    "    def set_out(self, out):\n",
    "        self.out = out\n",
    "        \n",
    "    def get_out(self):\n",
    "        return self.out\n",
    "        \n",
    "    def add_w(self, value):\n",
    "        self.w.append(value)\n",
    "        \n",
    "    def set_w(self, index, value):\n",
    "        self.w[index] = value\n",
    "    \n",
    "    def get_w(self, index):\n",
    "        return self.w[index]\n",
    "    \n",
    "    def set_is_used(self, is_used):\n",
    "        self.is_used = is_used\n",
    "        \n",
    "    def get_is_used(self):\n",
    "        return self.is_used\n",
    "    \n",
    "    def set_error(self, error):\n",
    "        self.error = error\n",
    "    \n",
    "    def get_error(self):\n",
    "        return self.error"
   ]
  },
  {
   "cell_type": "code",
   "execution_count": 489,
   "metadata": {},
   "outputs": [],
   "source": [
    "x = [Node() for i in range (5)]\n",
    "y = [x for i in range(5)]"
   ]
  },
  {
   "cell_type": "code",
   "execution_count": 490,
   "metadata": {},
   "outputs": [],
   "source": [
    "def LenCol(arr):\n",
    "    return len(arr)\n",
    "def LenRow(inp,hid,out):\n",
    "    return max(inp,max(hid)+1,out)\n",
    "def MakeMatrix(row,col):\n",
    "    return [[Node() for i in range (col)] for j in range(row)]"
   ]
  },
  {
   "cell_type": "code",
   "execution_count": 491,
   "metadata": {},
   "outputs": [],
   "source": [
    "x=MakeMatrix(3,2)"
   ]
  },
  {
   "cell_type": "code",
   "execution_count": 492,
   "metadata": {
    "scrolled": false
   },
   "outputs": [
    {
     "data": {
      "text/plain": [
       "5"
      ]
     },
     "execution_count": 492,
     "metadata": {},
     "output_type": "execute_result"
    }
   ],
   "source": [
    "len(iris_X.columns)"
   ]
  },
  {
   "cell_type": "code",
   "execution_count": 493,
   "metadata": {},
   "outputs": [
    {
     "data": {
      "text/plain": [
       "5.1"
      ]
     },
     "execution_count": 493,
     "metadata": {},
     "output_type": "execute_result"
    }
   ],
   "source": [
    "iris['sepal length (cm)'][0]"
   ]
  },
  {
   "cell_type": "code",
   "execution_count": 494,
   "metadata": {},
   "outputs": [],
   "source": [
    "def printMatrixMLP(matrix):\n",
    "    for i in range(len(matrix)):\n",
    "        temp_matrix_out = []\n",
    "        for j in range(len(matrix[i])):\n",
    "            temp_matrix_out.append(matrix[i][j].get_error())\n",
    "        print(temp_matrix_out)"
   ]
  },
  {
   "cell_type": "code",
   "execution_count": 495,
   "metadata": {},
   "outputs": [],
   "source": [
    "def initW(mat,layer):\n",
    "    for i in range(len(layer)-1):\n",
    "        for j in range(layer[i]):\n",
    "            for k in range(layer[i+1]):\n",
    "                mat[j][i].add_w(0)          "
   ]
  },
  {
   "cell_type": "code",
   "execution_count": 496,
   "metadata": {},
   "outputs": [],
   "source": [
    "def feedforward(mat,layer):\n",
    "    for i in range(1,len(layer)):\n",
    "        if (i!=len(layer)-1):\n",
    "            mat[layer[i]][i].set_out(1)\n",
    "        for j in range(layer[i]):\n",
    "            net = 0;\n",
    "            for k in range(layer[i-1]):\n",
    "                #print(k,i-1)\n",
    "                net = net + mat[k][i-1].get_out()\n",
    "#             if (i!=len(layer)-1):\n",
    "            mat[j][i].set_out(sigmoid(net))\n",
    "#             else:\n",
    "#                 mat[j][i].set_out(sign(sigmoid(net)))"
   ]
  },
  {
   "cell_type": "code",
   "execution_count": 497,
   "metadata": {},
   "outputs": [],
   "source": [
    "def get_error_total(matrix, n_output, target_arr):\n",
    "    output_col = len(matrix[0])-1\n",
    "    total_error = 0\n",
    "    for i in range(n_output):\n",
    "        total_error += 0.5*(target_arr[i] - matrix[i][output_col].get_out())**2\n",
    "    \n",
    "    return total_error"
   ]
  },
  {
   "cell_type": "code",
   "execution_count": 498,
   "metadata": {},
   "outputs": [],
   "source": [
    "def set_output_error(matrix, row, col, target_value):\n",
    "    output_value = matrix[row][col].get_out()\n",
    "    print(output_value, target_value)\n",
    "#     print(output_value * (1 - output_value) * (target_value - output_value))\n",
    "    matrix[row][col].set_error(output_value * (1 - output_value) * (target_value - output_value))"
   ]
  },
  {
   "cell_type": "code",
   "execution_count": 499,
   "metadata": {},
   "outputs": [],
   "source": [
    "def set_hidden_error(matrix, row, col):\n",
    "    output_value = matrix[row][col].get_out()\n",
    "    delta_weight_error = 0\n",
    "    for i in range(len(matrix[row][col].w)):\n",
    "        delta_weight_error += matrix[row][col].get_w(i) * matrix[i][col+1].get_error()\n",
    "    matrix[row][col].set_error(output_value * (1 - output_value) * delta_weight_error)"
   ]
  },
  {
   "cell_type": "code",
   "execution_count": 500,
   "metadata": {},
   "outputs": [],
   "source": [
    "def update_weight(matrix, row, col, learning_rate):\n",
    "    for i in range(len(matrix[row][col].w)):\n",
    "        delta_weight = learning_rate * matrix[i][col+1].get_error() * matrix[row][col].get_out()\n",
    "        current_weight = matrix[row][col].get_w(i)\n",
    "        matrix[row][col].set_w(i, current_weight + delta_weight)"
   ]
  },
  {
   "cell_type": "code",
   "execution_count": 501,
   "metadata": {},
   "outputs": [],
   "source": [
    "def backpropagation(matrix, layer, learning_rate, target_arr):\n",
    "    for i in range(len(layer)-1, 0, -1):\n",
    "        if i == len(layer)-1:\n",
    "            for j in range(layer[i]):\n",
    "                set_output_error(matrix, j, i, target_arr[j])\n",
    "        else:\n",
    "            for j in range(layer[i]):\n",
    "                set_hidden_error(matrix, j, i)\n",
    "        for j in range(layer[i-1]):\n",
    "            for k in range(layer[i]):\n",
    "                update_weight(matrix, j, k, learning_rate)"
   ]
  },
  {
   "cell_type": "code",
   "execution_count": 502,
   "metadata": {},
   "outputs": [],
   "source": [
    "hidden_node = [3,4]\n",
    "output_node = 2\n",
    "def MLP(data, hidden_node, output_node):\n",
    "    input_node = len(data.columns)+1\n",
    "    hidden_node.insert(0,input_node)\n",
    "    hidden_node.append(output_node)\n",
    "    layer_node = hidden_node\n",
    "    mlp = MakeMatrix(LenRow(input_node,hidden_node,output_node),LenCol(hidden_node))\n",
    "    print(LenCol(hidden_node))\n",
    "#     data[0], try for instance 0\n",
    "    for index,col in enumerate(data.columns):\n",
    "        mlp[index][0].set_out(data[col][0])\n",
    "    mlp[input_node-1][0].set_out(1)\n",
    "    initW(mlp,layer_node)\n",
    "    #print(mlp[0][0].get_out())\n",
    "    feedforward(mlp,layer_node)\n",
    "    backpropagation(mlp, layer_node, 0.1, [10, 10])\n",
    "    printMatrixMLP(mlp)\n",
    "                \n",
    "#     set for bias\n",
    "    #doing feed forward\n",
    "    #doing backward phase\n",
    "    #doing change weight\n",
    "    return mlp"
   ]
  },
  {
   "cell_type": "code",
   "execution_count": 503,
   "metadata": {
    "scrolled": false
   },
   "outputs": [
    {
     "name": "stdout",
     "output_type": "stream",
     "text": [
      "4\n",
      "0.978337861272054 10\n",
      "0.978337861272054 10\n",
      "[0, 0.0, 0.0, 0.19119509759658176]\n",
      "[0, 0.0, 0.0, 0.19119509759658176]\n",
      "[0, 0.0, 0.0, 0]\n",
      "[0, 0, 0.0, 0]\n",
      "[0, 0, 0, 0]\n",
      "[0, 0, 0, 0]\n",
      "[0, 0, 0, 0]\n"
     ]
    },
    {
     "data": {
      "text/plain": [
       "[[<__main__.Node at 0x7fce2346ff10>,\n",
       "  <__main__.Node at 0x7fce2346f6d0>,\n",
       "  <__main__.Node at 0x7fce2346f8d0>,\n",
       "  <__main__.Node at 0x7fce2346f490>],\n",
       " [<__main__.Node at 0x7fce2346f890>,\n",
       "  <__main__.Node at 0x7fce2346f090>,\n",
       "  <__main__.Node at 0x7fce2346fed0>,\n",
       "  <__main__.Node at 0x7fce2346f510>],\n",
       " [<__main__.Node at 0x7fce2346f650>,\n",
       "  <__main__.Node at 0x7fce2346fd10>,\n",
       "  <__main__.Node at 0x7fce2346ff90>,\n",
       "  <__main__.Node at 0x7fce2346f7d0>],\n",
       " [<__main__.Node at 0x7fce2346fd90>,\n",
       "  <__main__.Node at 0x7fce2346f450>,\n",
       "  <__main__.Node at 0x7fce2346f690>,\n",
       "  <__main__.Node at 0x7fce226e8750>],\n",
       " [<__main__.Node at 0x7fce226e85d0>,\n",
       "  <__main__.Node at 0x7fce226e8810>,\n",
       "  <__main__.Node at 0x7fce226e8550>,\n",
       "  <__main__.Node at 0x7fce226e8690>],\n",
       " [<__main__.Node at 0x7fce226e8310>,\n",
       "  <__main__.Node at 0x7fce226e8510>,\n",
       "  <__main__.Node at 0x7fce226e8950>,\n",
       "  <__main__.Node at 0x7fce226e8e10>],\n",
       " [<__main__.Node at 0x7fce226e8390>,\n",
       "  <__main__.Node at 0x7fce226e8450>,\n",
       "  <__main__.Node at 0x7fce226e8dd0>,\n",
       "  <__main__.Node at 0x7fce226e8590>]]"
      ]
     },
     "execution_count": 503,
     "metadata": {},
     "output_type": "execute_result"
    }
   ],
   "source": [
    "hidden_node = [3,4]\n",
    "output_node = 2\n",
    "MLP(iris, hidden_node, output_node)"
   ]
  },
  {
   "cell_type": "code",
   "execution_count": null,
   "metadata": {},
   "outputs": [],
   "source": []
  },
  {
   "cell_type": "code",
   "execution_count": null,
   "metadata": {},
   "outputs": [],
   "source": []
  }
 ],
 "metadata": {
  "kernelspec": {
   "display_name": "Python 3",
   "language": "python",
   "name": "python3"
  },
  "language_info": {
   "codemirror_mode": {
    "name": "ipython",
    "version": 3
   },
   "file_extension": ".py",
   "mimetype": "text/x-python",
   "name": "python",
   "nbconvert_exporter": "python",
   "pygments_lexer": "ipython3",
   "version": "3.7.3"
  }
 },
 "nbformat": 4,
 "nbformat_minor": 2
}
